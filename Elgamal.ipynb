{
  "nbformat": 4,
  "nbformat_minor": 0,
  "metadata": {
    "colab": {
      "name": "Crypto_Assign2_Elgamal.ipynb",
      "provenance": []
    },
    "kernelspec": {
      "name": "python3",
      "display_name": "Python 3"
    },
    "language_info": {
      "name": "python"
    }
  },
  "cells": [
    {
      "cell_type": "markdown",
      "metadata": {
        "id": "Oor_x-6j1JII"
      },
      "source": [
        "#Global Public Elements"
      ]
    },
    {
      "cell_type": "code",
      "metadata": {
        "id": "ZHgpaito1AIj"
      },
      "source": [
        "q = 71\n",
        "alpha = 12"
      ],
      "execution_count": 31,
      "outputs": []
    },
    {
      "cell_type": "markdown",
      "metadata": {
        "id": "ZamKK33Y1Go_"
      },
      "source": [
        "#Key Generation"
      ]
    },
    {
      "cell_type": "code",
      "metadata": {
        "id": "WQTWYPzo0_Bu"
      },
      "source": [
        "'''XA is random value such that: 1 < XA < q-1'''\n",
        "XA = randint(2, q-2)\n",
        "YA = alpha ** XA % q"
      ],
      "execution_count": 32,
      "outputs": []
    },
    {
      "cell_type": "markdown",
      "metadata": {
        "id": "lcEoLBQT1fAL"
      },
      "source": [
        "#Encryption"
      ]
    },
    {
      "cell_type": "code",
      "metadata": {
        "id": "Z1e3IYrHhVSq"
      },
      "source": [
        "'''M is the message that is a digit such that: 0 <= M <= q-1'''\n",
        "M = randint(0, q-1)\n",
        "'''k is a random integer such that: 1 <= k <= q-1'''\n",
        "k = randint(1, q-1)"
      ],
      "execution_count": 33,
      "outputs": []
    },
    {
      "cell_type": "markdown",
      "metadata": {
        "id": "dmwOeHhn1yVG"
      },
      "source": [
        "#Decryption"
      ]
    },
    {
      "cell_type": "code",
      "metadata": {
        "id": "jjhC2_FL1zky"
      },
      "source": [
        "C1 = alpha ** k % q\n",
        "C2 = (YA ** k) * M % q\n",
        "decrypted = (C2 * (C1 ** XA) ** (q - 2)) % q"
      ],
      "execution_count": 34,
      "outputs": []
    },
    {
      "cell_type": "markdown",
      "metadata": {
        "id": "82QRJs8a16Dr"
      },
      "source": [
        "#Results"
      ]
    },
    {
      "cell_type": "code",
      "metadata": {
        "colab": {
          "base_uri": "https://localhost:8080/"
        },
        "id": "yAJeyNDl17wF",
        "outputId": "a9cf5416-1993-4802-b2e2-e4372014809f"
      },
      "source": [
        "print(f\"YA = {YA}\")\n",
        "print(f\"The public key (q, alpha, YA) is: ({q}, {alpha}, {YA})\")\n",
        "print(f\"The private key (XA) is: {XA}\")\n",
        "print(f\"The Message (M) is: {M}\")\n",
        "print(f\"Cipher-text: ({C1}, {C2})\")\n",
        "print(f\"Decrypted text: {decrypted}\")"
      ],
      "execution_count": 35,
      "outputs": [
        {
          "output_type": "stream",
          "name": "stdout",
          "text": [
            "YA = 18\n",
            "The public key (q, alpha, YA) is: (71, 12, 18)\n",
            "The private key (XA) is: 66\n",
            "The Message (M) is: 24\n",
            "Cipher-text: (36, 29)\n",
            "Decrypted text: 24\n"
          ]
        }
      ]
    }
  ]
}